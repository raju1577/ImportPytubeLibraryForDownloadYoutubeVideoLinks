{
 "cells": [
  {
   "cell_type": "code",
   "execution_count": null,
   "id": "571a30ec-62f8-44ae-a679-85b6f975aad5",
   "metadata": {},
   "outputs": [],
   "source": [
    "pip install pytube"
   ]
  },
  {
   "cell_type": "code",
   "execution_count": null,
   "id": "d2d44cfa-7d6e-439a-b46b-efd758548825",
   "metadata": {},
   "outputs": [],
   "source": [
    "from pytube import YouTube"
   ]
  },
  {
   "cell_type": "code",
   "execution_count": 5,
   "id": "6fed8ea2-6695-49ce-aaee-1aa130ff0b6b",
   "metadata": {},
   "outputs": [
    {
     "name": "stdout",
     "output_type": "stream",
     "text": [
      "Collecting yt-dlp\n",
      "  Downloading yt_dlp-2024.8.6-py3-none-any.whl.metadata (170 kB)\n",
      "     ---------------------------------------- 0.0/170.1 kB ? eta -:--:--\n",
      "     ---- -------------------------------- 20.5/170.1 kB 640.0 kB/s eta 0:00:01\n",
      "     -------- ---------------------------- 41.0/170.1 kB 487.6 kB/s eta 0:00:01\n",
      "     --------------------------- ---------- 122.9/170.1 kB 1.0 MB/s eta 0:00:01\n",
      "     -------------------------------------- 170.1/170.1 kB 1.1 MB/s eta 0:00:00\n",
      "Requirement already satisfied: brotli in c:\\users\\nagarajg\\appdata\\local\\anaconda3\\lib\\site-packages (from yt-dlp) (1.0.9)\n",
      "Requirement already satisfied: certifi in c:\\users\\nagarajg\\appdata\\local\\anaconda3\\lib\\site-packages (from yt-dlp) (2024.7.4)\n",
      "Collecting mutagen (from yt-dlp)\n",
      "  Downloading mutagen-1.47.0-py3-none-any.whl.metadata (1.7 kB)\n",
      "Collecting pycryptodomex (from yt-dlp)\n",
      "  Downloading pycryptodomex-3.20.0-cp35-abi3-win_amd64.whl.metadata (3.4 kB)\n",
      "Requirement already satisfied: requests<3,>=2.32.2 in c:\\users\\nagarajg\\appdata\\local\\anaconda3\\lib\\site-packages (from yt-dlp) (2.32.2)\n",
      "Requirement already satisfied: urllib3<3,>=1.26.17 in c:\\users\\nagarajg\\appdata\\local\\anaconda3\\lib\\site-packages (from yt-dlp) (2.2.2)\n",
      "Collecting websockets>=12.0 (from yt-dlp)\n",
      "  Downloading websockets-13.0.1-cp312-cp312-win_amd64.whl.metadata (6.9 kB)\n",
      "Requirement already satisfied: charset-normalizer<4,>=2 in c:\\users\\nagarajg\\appdata\\local\\anaconda3\\lib\\site-packages (from requests<3,>=2.32.2->yt-dlp) (2.0.4)\n",
      "Requirement already satisfied: idna<4,>=2.5 in c:\\users\\nagarajg\\appdata\\local\\anaconda3\\lib\\site-packages (from requests<3,>=2.32.2->yt-dlp) (3.7)\n",
      "Downloading yt_dlp-2024.8.6-py3-none-any.whl (3.1 MB)\n",
      "   ---------------------------------------- 0.0/3.1 MB ? eta -:--:--\n",
      "   --- ------------------------------------ 0.3/3.1 MB 5.7 MB/s eta 0:00:01\n",
      "   ------- -------------------------------- 0.6/3.1 MB 6.4 MB/s eta 0:00:01\n",
      "   ----------- ---------------------------- 0.9/3.1 MB 6.4 MB/s eta 0:00:01\n",
      "   --------------- ------------------------ 1.2/3.1 MB 7.5 MB/s eta 0:00:01\n",
      "   ---------------------- ----------------- 1.7/3.1 MB 7.8 MB/s eta 0:00:01\n",
      "   -------------------------- ------------- 2.0/3.1 MB 7.2 MB/s eta 0:00:01\n",
      "   --------------------------------- ------ 2.7/3.1 MB 8.0 MB/s eta 0:00:01\n",
      "   -------------------------------------- - 3.0/3.1 MB 8.6 MB/s eta 0:00:01\n",
      "   ---------------------------------------- 3.1/3.1 MB 7.4 MB/s eta 0:00:00\n",
      "Downloading websockets-13.0.1-cp312-cp312-win_amd64.whl (152 kB)\n",
      "   ---------------------------------------- 0.0/152.2 kB ? eta -:--:--\n",
      "   ---------------------------------------- 152.2/152.2 kB 9.5 MB/s eta 0:00:00\n",
      "Downloading mutagen-1.47.0-py3-none-any.whl (194 kB)\n",
      "   ---------------------------------------- 0.0/194.4 kB ? eta -:--:--\n",
      "   --------------------------------------- 194.4/194.4 kB 11.5 MB/s eta 0:00:00\n",
      "Downloading pycryptodomex-3.20.0-cp35-abi3-win_amd64.whl (1.8 MB)\n",
      "   ---------------------------------------- 0.0/1.8 MB ? eta -:--:--\n",
      "   -------- ------------------------------- 0.4/1.8 MB 8.1 MB/s eta 0:00:01\n",
      "   ---------------------- ----------------- 1.0/1.8 MB 10.2 MB/s eta 0:00:01\n",
      "   --------------------------------- ------ 1.5/1.8 MB 11.8 MB/s eta 0:00:01\n",
      "   ----------------------------------- ---- 1.6/1.8 MB 9.0 MB/s eta 0:00:01\n",
      "   ------------------------------------- -- 1.7/1.8 MB 7.6 MB/s eta 0:00:01\n",
      "   ---------------------------------------- 1.8/1.8 MB 7.0 MB/s eta 0:00:00\n",
      "Installing collected packages: websockets, pycryptodomex, mutagen, yt-dlp\n",
      "Successfully installed mutagen-1.47.0 pycryptodomex-3.20.0 websockets-13.0.1 yt-dlp-2024.8.6\n",
      "Note: you may need to restart the kernel to use updated packages.\n"
     ]
    }
   ],
   "source": [
    "pip install yt-dlp"
   ]
  },
  {
   "cell_type": "code",
   "execution_count": 11,
   "id": "829afad4-ef3f-48e8-a1e7-6b90e0e0a42b",
   "metadata": {},
   "outputs": [],
   "source": [
    "from pytube import YouTube"
   ]
  },
  {
   "cell_type": "code",
   "execution_count": 13,
   "id": "6789f019-9c0c-462f-a172-8382262f3040",
   "metadata": {},
   "outputs": [
    {
     "name": "stdin",
     "output_type": "stream",
     "text": [
      "Enter youtube video https://www.youtube.com/watch?v=d8eHtzx7byE\n"
     ]
    }
   ],
   "source": [
    "link = input(\"Enter youtube video\")\n",
    "yt = YouTube(link)"
   ]
  },
  {
   "cell_type": "code",
   "execution_count": 17,
   "id": "10c07ab7-3634-4529-a2c1-13adc0439558",
   "metadata": {},
   "outputs": [
    {
     "name": "stdout",
     "output_type": "stream",
     "text": [
      "Tile : Dronacharya meet Parshuram | Mahabharat in English | Season 2 Episode 7 | ds_narrative\n",
      "View : 30092\n",
      "Duration :  974\n",
      "Description :  None\n",
      "Ratings :  None\n"
     ]
    }
   ],
   "source": [
    "# to print title\n",
    "print (\"Tile :\", yt.title);\n",
    "print (\"View :\", yt.views)\n",
    "print (\"Duration : \", yt.length)\n",
    "print(\"Description : \", yt.description)\n",
    "print(\"Ratings : \", yt.rating)"
   ]
  },
  {
   "cell_type": "code",
   "execution_count": 33,
   "id": "3cc4be9f-0be5-443f-b2bb-de644992998f",
   "metadata": {},
   "outputs": [
    {
     "name": "stdin",
     "output_type": "stream",
     "text": [
      "Do you want to download this video ? (yes/no):  yes\n"
     ]
    },
    {
     "name": "stdout",
     "output_type": "stream",
     "text": [
      "Downloading...\n",
      "[youtube] Extracting URL: https://www.youtube.com/watch?v=d8eHtzx7byE\n",
      "[youtube] d8eHtzx7byE: Downloading webpage\n",
      "[youtube] d8eHtzx7byE: Downloading ios player API JSON\n",
      "[youtube] d8eHtzx7byE: Downloading web creator player API JSON\n",
      "[youtube] d8eHtzx7byE: Downloading player 3abab6ef\n",
      "[youtube] d8eHtzx7byE: Downloading m3u8 information\n",
      "[info] d8eHtzx7byE: Downloading 1 format(s): 18\n",
      "[download] Destination: Dronacharya meet Parshuram ｜ Mahabharat in English ｜ Season 2 Episode 7 ｜ ds_narrative [d8eHtzx7byE].mp4\n",
      "[download] 100% of   75.56MiB in 00:00:14 at 5.38MiB/s     \n",
      "Download completed\n"
     ]
    }
   ],
   "source": [
    "from yt_dlp import YoutubeDL\n",
    "download_option = input(\"Do you want to download this video ? (yes/no): \").lower()\n",
    "if download_option =='yes':\n",
    "    url = 'https://www.youtube.com/watch?v=d8eHtzx7byE'\n",
    "    ydl_ops = {'format': 'best'}\n",
    "    with YoutubeDL(ydl_ops) as ydl:\n",
    "        print(\"Downloading...\")\n",
    "        ydl.download([url])\n",
    "        print(\"Download completed\")\n",
    "else:\n",
    "    print(\"Download process\")"
   ]
  },
  {
   "cell_type": "code",
   "execution_count": null,
   "id": "ba44e9a7-7297-4faa-80bb-36c7667f1099",
   "metadata": {},
   "outputs": [],
   "source": []
  }
 ],
 "metadata": {
  "kernelspec": {
   "display_name": "Python 3 (ipykernel)",
   "language": "python",
   "name": "python3"
  },
  "language_info": {
   "codemirror_mode": {
    "name": "ipython",
    "version": 3
   },
   "file_extension": ".py",
   "mimetype": "text/x-python",
   "name": "python",
   "nbconvert_exporter": "python",
   "pygments_lexer": "ipython3",
   "version": "3.12.4"
  }
 },
 "nbformat": 4,
 "nbformat_minor": 5
}
